{
 "cells": [
  {
   "cell_type": "markdown",
   "metadata": {},
   "source": [
    "# Pipeline #1: Clustering\n",
    "\n",
    "This pipeline does the following:\n",
    "- Visualization of the datasets\n",
    "- Preparation of the inputs for running the SuStaIn algorithm\n",
    "- Launching of the algorithm\n",
    "- Model stability tracking\n",
    "- "
   ]
  },
  {
   "cell_type": "markdown",
   "metadata": {},
   "source": [
    "#### Load the library that will be used"
   ]
  },
  {
   "cell_type": "code",
   "execution_count": 53,
   "metadata": {},
   "outputs": [],
   "source": [
    "# Load libraries\n",
    "\n",
    "import os\n",
    "import pandas as pd\n",
    "import numpy as np\n",
    "import matplotlib.pyplot as plt\n",
    "import seaborn as sns\n",
    "import pySuStaIn\n",
    "import statsmodels.formula.api as smf\n",
    "from scipy import stats\n",
    "import sklearn.model_selection\n",
    "import wandb\n",
    "from sklearn.metrics.cluster import adjusted_rand_score\n",
    "\n",
    "\n",
    "output_folder = \"/Users/song/Documents/dev/repos/10. brainhack 2024/song_project/brainhack_source/results/\"\n",
    "input_folder = \"/Users/song/Documents/dev/repos/10. brainhack 2024/song_project/brainhack_source/data/\"\n",
    "\n"
   ]
  },
  {
   "cell_type": "markdown",
   "metadata": {},
   "source": [
    "#### Load the dataset (input 'copn' or 'ppmi')"
   ]
  },
  {
   "cell_type": "code",
   "execution_count": 21,
   "metadata": {},
   "outputs": [
    {
     "name": "stdout",
     "output_type": "stream",
     "text": [
      "Selected dataset: copn\n",
      "prob_nl:\n",
      "shape: (956, 26)\n",
      "[[0.752 0.851 0.741 ... 0.885 0.93  0.874]\n",
      " [0.752 0.851 0.065 ... 0.029 0.017 0.874]\n",
      " [0.062 0.037 0.065 ... 0.029 0.017 0.031]\n",
      " ...\n",
      " [0.062 0.851 0.065 ... 0.029 0.017 0.031]\n",
      " [0.752 0.851 0.065 ... 0.029 0.93  0.874]\n",
      " [0.752 0.851 0.741 ... 0.029 0.017 0.031]]\n",
      "(24856, 4)\n",
      "prob_score:\n",
      "shape: (956, 26, 4)\n",
      "[[[0.06198765 0.06198765 0.06198765 0.06198765]\n",
      "  [0.0371787  0.0371787  0.0371787  0.0371787 ]\n",
      "  [0.0648523  0.0648523  0.0648523  0.0648523 ]\n",
      "  ...\n",
      "  [0.02875    0.02875    0.02875    0.02875   ]\n",
      "  [0.0174964  0.0174964  0.0174964  0.0174964 ]\n",
      "  [0.0314284  0.0314284  0.0314284  0.0314284 ]]\n",
      "\n",
      " [[0.06198765 0.06198765 0.06198765 0.06198765]\n",
      "  [0.0371787  0.0371787  0.0371787  0.0371787 ]\n",
      "  [0.7405908  0.0648523  0.0648523  0.0648523 ]\n",
      "  ...\n",
      "  [0.885      0.02875    0.02875    0.02875   ]\n",
      "  [0.0174964  0.9300144  0.0174964  0.0174964 ]\n",
      "  [0.0314284  0.0314284  0.0314284  0.0314284 ]]\n",
      "\n",
      " [[0.06198765 0.06198765 0.7520494  0.06198765]\n",
      "  [0.0371787  0.8512852  0.0371787  0.0371787 ]\n",
      "  [0.7405908  0.0648523  0.0648523  0.0648523 ]\n",
      "  ...\n",
      "  [0.02875    0.885      0.02875    0.02875   ]\n",
      "  [0.9300144  0.0174964  0.0174964  0.0174964 ]\n",
      "  [0.0314284  0.8742864  0.0314284  0.0314284 ]]\n",
      "\n",
      " ...\n",
      "\n",
      " [[0.06198765 0.06198765 0.06198765 0.7520494 ]\n",
      "  [0.0371787  0.0371787  0.0371787  0.0371787 ]\n",
      "  [0.0648523  0.0648523  0.7405908  0.0648523 ]\n",
      "  ...\n",
      "  [0.02875    0.885      0.02875    0.02875   ]\n",
      "  [0.0174964  0.0174964  0.9300144  0.0174964 ]\n",
      "  [0.0314284  0.8742864  0.0314284  0.0314284 ]]\n",
      "\n",
      " [[0.06198765 0.06198765 0.06198765 0.06198765]\n",
      "  [0.0371787  0.0371787  0.0371787  0.0371787 ]\n",
      "  [0.0648523  0.0648523  0.7405908  0.0648523 ]\n",
      "  ...\n",
      "  [0.885      0.02875    0.02875    0.02875   ]\n",
      "  [0.0174964  0.0174964  0.0174964  0.0174964 ]\n",
      "  [0.0314284  0.0314284  0.0314284  0.0314284 ]]\n",
      "\n",
      " [[0.06198765 0.06198765 0.06198765 0.06198765]\n",
      "  [0.0371787  0.0371787  0.0371787  0.0371787 ]\n",
      "  [0.0648523  0.0648523  0.0648523  0.0648523 ]\n",
      "  ...\n",
      "  [0.885      0.02875    0.02875    0.02875   ]\n",
      "  [0.0174964  0.9300144  0.0174964  0.0174964 ]\n",
      "  [0.8742864  0.0314284  0.0314284  0.0314284 ]]]\n",
      "score_vals\n",
      "shape: (26, 4)\n",
      "[[1 2 3 4]\n",
      " [1 2 3 0]\n",
      " [1 2 3 4]\n",
      " [1 2 3 4]\n",
      " [1 2 3 4]\n",
      " [1 2 3 4]\n",
      " [1 2 3 4]\n",
      " [1 2 3 4]\n",
      " [1 2 3 4]\n",
      " [1 2 3 4]\n",
      " [1 2 3 4]\n",
      " [1 2 3 4]\n",
      " [1 2 3 4]\n",
      " [1 2 3 4]\n",
      " [1 2 3 4]\n",
      " [1 2 3 4]\n",
      " [1 2 3 0]\n",
      " [1 2 3 4]\n",
      " [1 2 3 4]\n",
      " [1 2 3 4]\n",
      " [1 2 3 4]\n",
      " [1 2 3 4]\n",
      " [1 2 3 4]\n",
      " [1 2 3 4]\n",
      " [1 2 3 4]\n",
      " [1 2 3 4]]\n"
     ]
    }
   ],
   "source": [
    "dataset = input()\n",
    "print(\"Selected dataset:\", dataset)\n",
    "\n",
    "data_path = \"\"\n",
    "if dataset == \"copn\":\n",
    "    data_path = input_folder + \"dataset_1_copn/data.xlsx\"\n",
    "elif dataset == \"ppmi\":\n",
    "    data_path = input_folder + \"dataset_2_ppmi/data.xlsx\"\n",
    "\n",
    "# prob_nl\n",
    "prob_nl = pd.read_excel(data_path, sheet_name=\"1_prob_nl\").values\n",
    "print(\"prob_nl:\")\n",
    "print(\"shape:\", prob_nl.shape)\n",
    "print(prob_nl)\n",
    "\n",
    "# prob_score\n",
    "tmp = pd.read_excel(data_path, sheet_name=\"2_prob_score\").values\n",
    "original_shape = tmp.shape\n",
    "print(original_shape)\n",
    "\n",
    "desired_shape = (prob_nl.shape[0], 26, 4)\n",
    "prob_score = tmp.reshape(desired_shape)\n",
    "print(\"prob_score:\")\n",
    "print(\"shape:\", prob_score.shape)\n",
    "print(prob_score)\n",
    "\n",
    "# score_vals\n",
    "score_vals = pd.read_excel(data_path, sheet_name=\"3_score_vals\").values\n",
    "print(\"score_vals\")\n",
    "print(\"shape:\", score_vals.shape)\n",
    "print(score_vals)\n"
   ]
  },
  {
   "cell_type": "code",
   "execution_count": null,
   "metadata": {},
   "outputs": [],
   "source": [
    "pheno.columns\n",
    "# Let's start by having a quick look at the `summary statistics` and `distribution` of `Age`:\n",
    "print(pheno['Age'].describe())\n",
    "\n",
    "# simple histogram with seaborn\n",
    "sns.distplot(pheno['Age'],\n",
    "            #bins=30,          # increase \"resolution\"\n",
    "            #color='black',    # change color\n",
    "            #kde=False,        # get rid of KDE (y axis=N)\n",
    "            #rug=True,         # add \"rug\"\n",
    "            )\n",
    "\n",
    "import numpy as np\n",
    "\n",
    "log_age = np.log(pheno['Age'])\n",
    "sns.distplot(log_age,\n",
    "            bins=30,          \n",
    "            color='black',    \n",
    "            kde=False,         \n",
    "            rug=True,          \n",
    "            )"
   ]
  },
  {
   "cell_type": "markdown",
   "metadata": {},
   "source": [
    "#### Set n_s_max: models with 1 to n_s_max clusters will be fit"
   ]
  },
  {
   "cell_type": "code",
   "execution_count": 37,
   "metadata": {},
   "outputs": [
    {
     "name": "stdout",
     "output_type": "stream",
     "text": [
      "Max number of clusters was set to: 6\n"
     ]
    }
   ],
   "source": [
    "n_s_max = input()\n",
    "print(\"Max number of clusters was set to:\", n_s_max)\n"
   ]
  },
  {
   "cell_type": "markdown",
   "metadata": {},
   "source": [
    "#### Set n_iterations: number of MCMC iterations "
   ]
  },
  {
   "cell_type": "code",
   "execution_count": 38,
   "metadata": {},
   "outputs": [
    {
     "name": "stdout",
     "output_type": "stream",
     "text": [
      "Number of MCMC iterations was set to: 100000\n"
     ]
    }
   ],
   "source": [
    "n_iterations = input()\n",
    "print(\"Number of MCMC iterations was set to:\", n_iterations)"
   ]
  },
  {
   "cell_type": "code",
   "execution_count": 39,
   "metadata": {},
   "outputs": [
    {
     "data": {
      "text/html": [
       "Tracking run with wandb version 0.17.1"
      ],
      "text/plain": [
       "<IPython.core.display.HTML object>"
      ]
     },
     "metadata": {},
     "output_type": "display_data"
    },
    {
     "data": {
      "text/html": [
       "Run data is saved locally in <code>/Users/song/Documents/dev/repos/10. brainhack 2024/song_project/brainhack_source/wandb/run-20240614_015521-se778kjy</code>"
      ],
      "text/plain": [
       "<IPython.core.display.HTML object>"
      ]
     },
     "metadata": {},
     "output_type": "display_data"
    },
    {
     "data": {
      "text/html": [
       "Syncing run <strong><a href='https://wandb.ai/song-y/Brainhack%20pySuStaIn/runs/se778kjy' target=\"_blank\">cool-breeze-8</a></strong> to <a href='https://wandb.ai/song-y/Brainhack%20pySuStaIn' target=\"_blank\">Weights & Biases</a> (<a href='https://wandb.me/run' target=\"_blank\">docs</a>)<br/>"
      ],
      "text/plain": [
       "<IPython.core.display.HTML object>"
      ]
     },
     "metadata": {},
     "output_type": "display_data"
    },
    {
     "data": {
      "text/html": [
       " View project at <a href='https://wandb.ai/song-y/Brainhack%20pySuStaIn' target=\"_blank\">https://wandb.ai/song-y/Brainhack%20pySuStaIn</a>"
      ],
      "text/plain": [
       "<IPython.core.display.HTML object>"
      ]
     },
     "metadata": {},
     "output_type": "display_data"
    },
    {
     "data": {
      "text/html": [
       " View run at <a href='https://wandb.ai/song-y/Brainhack%20pySuStaIn/runs/se778kjy' target=\"_blank\">https://wandb.ai/song-y/Brainhack%20pySuStaIn/runs/se778kjy</a>"
      ],
      "text/plain": [
       "<IPython.core.display.HTML object>"
      ]
     },
     "metadata": {},
     "output_type": "display_data"
    },
    {
     "name": "stdout",
     "output_type": "stream",
     "text": [
      "Found pickle file: /Users/song/Documents/dev/repos/10. brainhack 2024/song_project/brainhack_source/results/532/pickle_files/copn_subtype0.pickle. Using pickled variables for 0 subtype.\n",
      "Found pickle file: /Users/song/Documents/dev/repos/10. brainhack 2024/song_project/brainhack_source/results/532/pickle_files/copn_subtype1.pickle. Using pickled variables for 1 subtype.\n",
      "Found pickle file: /Users/song/Documents/dev/repos/10. brainhack 2024/song_project/brainhack_source/results/532/pickle_files/copn_subtype2.pickle. Using pickled variables for 2 subtype.\n",
      "Found pickle file: /Users/song/Documents/dev/repos/10. brainhack 2024/song_project/brainhack_source/results/532/pickle_files/copn_subtype3.pickle. Using pickled variables for 3 subtype.\n",
      "Found pickle file: /Users/song/Documents/dev/repos/10. brainhack 2024/song_project/brainhack_source/results/532/pickle_files/copn_subtype4.pickle. Using pickled variables for 4 subtype.\n",
      "Found pickle file: /Users/song/Documents/dev/repos/10. brainhack 2024/song_project/brainhack_source/results/532/pickle_files/copn_subtype5.pickle. Using pickled variables for 5 subtype.\n"
     ]
    },
    {
     "data": {
      "application/vnd.jupyter.widget-view+json": {
       "model_id": "bba729af2e7549ebbefe91ad9c59ec39",
       "version_major": 2,
       "version_minor": 0
      },
      "text/plain": [
       "VBox(children=(Label(value='0.001 MB of 0.001 MB uploaded\\r'), FloatProgress(value=1.0, max=1.0)))"
      ]
     },
     "metadata": {},
     "output_type": "display_data"
    },
    {
     "data": {
      "text/html": [
       " View run <strong style=\"color:#cdcd00\">cool-breeze-8</strong> at: <a href='https://wandb.ai/song-y/Brainhack%20pySuStaIn/runs/se778kjy' target=\"_blank\">https://wandb.ai/song-y/Brainhack%20pySuStaIn/runs/se778kjy</a><br/> View project at: <a href='https://wandb.ai/song-y/Brainhack%20pySuStaIn' target=\"_blank\">https://wandb.ai/song-y/Brainhack%20pySuStaIn</a><br/>Synced 5 W&B file(s), 0 media file(s), 0 artifact file(s) and 0 other file(s)"
      ],
      "text/plain": [
       "<IPython.core.display.HTML object>"
      ]
     },
     "metadata": {},
     "output_type": "display_data"
    },
    {
     "data": {
      "text/html": [
       "Find logs at: <code>./wandb/run-20240614_015521-se778kjy/logs</code>"
      ],
      "text/plain": [
       "<IPython.core.display.HTML object>"
      ]
     },
     "metadata": {},
     "output_type": "display_data"
    }
   ],
   "source": [
    "# output_no = random.randint(100, 999)\n",
    "output_no = 532\n",
    "\n",
    "output_path = output_folder + str(output_no)\n",
    "seed = 5\n",
    "\n",
    "biomarkers = ['Cognition', 'Psychosis', 'Depression', 'Anxiety', 'Apathy',\n",
    "            'Impulsivity', 'Insomnia', 'Sleepiness', 'Pain', 'Incontinence',\n",
    "            'Constipation', 'Dizziness', 'Fatigue', 'Speech', 'Drooling',\n",
    "            'Swallowing', 'Eating', 'Dressing', 'Hygiene', 'Handwriting', 'Hobbies',\n",
    "            'Rolling', 'Tremor', 'Arising', 'Walking', 'Freezing']\n",
    "\n",
    "# start a new wandb run to track this script\n",
    "wandb.init(\n",
    "    # set the wandb project where this run will be logged\n",
    "    project=\"Brainhack pySuStaIn\",\n",
    "\n",
    "    # track hyperparameters and run metadata\n",
    "    config={\n",
    "    \"dataset\": dataset,\n",
    "    \"output_no\": output_no,\n",
    "    \"n_s_max\": n_s_max,\n",
    "    \"n_iterations\": n_iterations,\n",
    "    \"seed\": seed\n",
    "    }\n",
    ")\n",
    "\n",
    "# create folder for results if it doesn't exist already\n",
    "if not os.path.isdir(output_path):\n",
    "    os.makedirs(output_path)\n",
    "\n",
    "# The initializer for the scored events model implementation of AbstractSustain\n",
    "#         Parameters:\n",
    "#           prob_nl                     - probability of negative/normal class for all subjects across all biomarkers \n",
    "#                                         dim: number of subjects x number of biomarkers\n",
    "        \n",
    "#           prob_score                  - probability of each score for all subjects across all biomarkers\n",
    "#                                         dim: number of subjects x number of biomarkers x number of scores\n",
    "#           score_vals                  - a matrix specifying the scores for each biomarker\n",
    "#                                         dim: number of biomarkers x number of scores\n",
    "#           biomarker_labels            - the names of the biomarkers as a list of strings\n",
    "#           N_startpoints               - number of startpoints to use in maximum likelihood step of SuStaIn, typically 25\n",
    "#           N_S_max                     - maximum number of subtypes, should be 1 or more\n",
    "#           N_iterations_MCMC           - number of MCMC iterations, typically 1e5 or 1e6 but can be lower for debugging\n",
    "#           output_folder               - where to save pickle files, etc.\n",
    "#           dataset_name                - for naming pickle files\n",
    "#           use_parallel_startpoints    - boolean for whether or not to parallelize the maximum likelihood loop\n",
    "#           seed                        - random number seed\n",
    "\n",
    "sustain_input_zscore = pySuStaIn.OrdinalSustain(\n",
    "                            prob_nl,     \n",
    "                            prob_score,      \n",
    "                            score_vals,\n",
    "                            biomarkers,\n",
    "                            25,\n",
    "                            int(n_s_max),\n",
    "                            int(n_iterations), \n",
    "                            output_path, \n",
    "                            dataset, \n",
    "                            True,\n",
    "                            seed)                      \n",
    "samples_sequence,   \\\n",
    "samples_f,          \\\n",
    "ml_subtype,         \\\n",
    "prob_ml_subtype,    \\\n",
    "ml_stage,           \\\n",
    "prob_ml_stage,      \\\n",
    "prob_subtype_stage  = sustain_input_zscore.run_sustain_algorithm()\n",
    "\n",
    "wandb.finish()"
   ]
  },
  {
   "cell_type": "markdown",
   "metadata": {},
   "source": [
    "#### Generate result file"
   ]
  },
  {
   "cell_type": "code",
   "execution_count": null,
   "metadata": {},
   "outputs": [],
   "source": [
    "n_subtypes = 3\n",
    "pickle_filename_s = output_folder + '/pickle_files/' + 'copn_subtype' + str(n_subtypes) + '.pickle'\n",
    "pk = pd.read_pickle(pickle_filename_s)\n",
    "\n",
    "results = data_to_print\n",
    "# print(data_to_print.shape)\n",
    "\n",
    "for variable in ['ml_subtype', # the assigned subtype\n",
    "                 'prob_ml_subtype', # the probability of the assigned subtype\n",
    "                 'ml_stage', # the assigned stage \n",
    "                 'prob_ml_stage',]: # the probability of the assigned stage\n",
    "    \n",
    "    print(variable)\n",
    "    \n",
    "    # add SuStaIn output to dataframe\n",
    "    results.loc[:,variable] = pk[variable] \n",
    "\n",
    "# write results to excel file\n",
    "writer = pd.ExcelWriter(\"/Users/song/Documents/dev/repos/07. pySuStaIn COP-N/results/ordinal/o2/o2.xlsx\", engine='openpyxl', mode='a', if_sheet_exists = 'replace')\n",
    "results.to_excel(writer, sheet_name = \"4st\")\n",
    "writer.close()"
   ]
  },
  {
   "cell_type": "markdown",
   "metadata": {},
   "source": [
    "#### Evaluate the stability of model using the Adjust Rand Index (ARI)\n",
    "\n",
    "The ARI is a measure of the similarity between two data clusterings. The Rand Index computes a similarity measure between two clusterings by considering all pairs of samples and counting pairs that are assigned in the same or different clusters in the predicted and true clusterings. The raw RI score is then “adjusted for chance” into the ARI score.\n",
    "\n",
    "Input # of two models to be compared"
   ]
  },
  {
   "cell_type": "code",
   "execution_count": 55,
   "metadata": {},
   "outputs": [
    {
     "name": "stdout",
     "output_type": "stream",
     "text": [
      "First model: # 532\n",
      "Second model: # 841\n",
      "[0, 1, 1, 1, 1, 0, 2, 0, 1, 1, 1, 1, 1, 0, 0, 1, 2, 0, 0, 1, 0, 1, 0, 1, 1, 1, 1, 2, 1, 0, 1, 0, 1, 1, 0, 1, 1, 1, 1, 0, 0, 2, 2, 1, 0, 0, 2, 1, 0, 2, 1, 0, 0, 0, 1, 2, 2, 1, 2, 2, 0, 0, 2, 2, 2, 2, 2, 1, 1, 1, 1, 2, 2, 0, 0, 2, 2, 1, 2, 1, 1, 1, 1, 0, 1, 1, 2, 2, 2, 0, 1, 2, 2, 1, 0, 1, 1, 1, 2, 2, 2, 2, 2, 2, 0, 2, 2, 0, 0, 2, 2, 0, 1, 1, 2, 1, 0, 0, 1, 2, 0, 2, 1, 2, 2, 2, 1, 1, 0, 2, 2, 1, 2, 1, 2, 1, 2, 0, 2, 2, 1, 1, 2, 1, 0, 1, 0, 1, 0, 1, 0, 1, 1, 1, 0, 0, 0, 0, 0, 1, 1, 1, 1, 2, 2, 0, 0, 0, 1, 1, 1, 1, 0, 1, 2, 2, 0, 1, 0, 2, 0, 2, 0, 2, 0, 2, 1, 0, 2, 2, 2, 1, 1, 0, 2, 0, 0, 2, 0, 1, 1, 0, 2, 0, 1, 0, 0, 0, 1, 0, 0, 1, 1, 2, 1, 2, 0, 1, 2, 0, 1, 0, 2, 0, 1, 0, 2, 0, 0, 0, 0, 1, 0, 1, 0, 0, 1, 0, 0, 1, 1, 0, 0, 1, 2, 0, 1, 0, 1, 2, 1, 0, 0, 1, 2, 0, 2, 0, 0, 1, 1, 0, 0, 2, 0, 0, 0, 1, 0, 1, 0, 1, 1, 0, 2, 1, 0, 1, 2, 0, 1, 1, 1, 2, 2, 0, 0, 0, 2, 1, 0, 2, 1, 0, 2, 1, 1, 1, 1, 0, 0, 1, 0, 2, 0, 0, 1, 0, 0, 0, 1, 0, 1, 0, 1, 0, 0, 1, 1, 1, 1, 0, 2, 2, 2, 1, 0, 0, 0, 1, 2, 0, 1, 0, 2, 1, 2, 1, 0, 0, 0, 1, 0, 0, 2, 1, 2, 2, 2, 2, 2, 0, 2, 0, 2, 0, 2, 0, 1, 0, 1, 2, 1, 2, 0, 0, 0, 1, 0, 2, 0, 0, 2, 1, 0, 1, 1, 1, 0, 0, 2, 1, 0, 0, 0, 0, 2, 0, 1, 0, 0, 2, 1, 2, 0, 1, 0, 2, 1, 0, 1, 1, 0, 0, 0, 0, 0, 2, 0, 1, 0, 1, 2, 2, 2, 2, 0, 2, 0, 1, 1, 0, 1, 2, 1, 0, 0, 2, 1, 2, 1, 0, 2, 1, 2, 1, 0, 0, 2, 1, 1, 0, 1, 1, 1, 1, 0, 0, 1, 1, 0, 0, 1, 1, 1, 0, 2, 1, 0, 0, 1, 2, 0, 0, 0, 0, 0, 0, 0, 2, 1, 1, 1, 1, 0, 1, 0, 1, 1, 0, 1, 1, 0, 1, 2, 0, 0, 1, 0, 1, 1, 1, 0, 0, 0, 1, 2, 1, 0, 2, 1, 1, 1, 0, 0, 1, 2, 0, 0, 2, 2, 0, 0, 1, 2, 1, 1, 2, 0, 2, 1, 1, 0, 0, 2, 1, 0, 0, 0, 0, 0, 0, 1, 2, 2, 1, 0, 1, 2, 1, 0, 2, 2, 2, 0, 0, 1, 0, 0, 0, 0, 0, 1, 2, 0, 1, 1, 1, 0, 2, 1, 1, 0, 1, 1, 0, 1, 1, 1, 1, 2, 0, 0, 0, 1, 0, 0, 2, 0, 0, 2, 0, 1, 0, 0, 1, 0, 0, 2, 0, 1, 1, 0, 0, 1, 2, 1, 0, 1, 0, 1, 0, 1, 1, 2, 1, 0, 2, 0, 1, 0, 0, 1, 2, 0, 0, 0, 2, 2, 1, 2, 1, 0, 0, 2, 1, 0, 0, 0, 0, 0, 1, 0, 1, 1, 0, 1, 2, 1, 1, 0, 1, 0, 0, 0, 2, 2, 1, 1, 0, 1, 0, 2, 2, 0, 1, 1, 0, 2, 2, 1, 0, 0, 0, 0, 1, 2, 1, 1, 2, 0, 1, 1, 0, 0, 2, 1, 0, 2, 1, 0, 1, 1, 2, 2, 1, 0, 1, 0, 2, 0, 2, 0, 2, 2, 1, 0, 0, 2, 1, 0, 0, 1, 0, 2, 2, 1, 2, 0, 1, 2, 1, 1, 1, 0, 1, 0, 0, 0, 2, 1, 1, 0, 2, 0, 1, 1, 0, 1, 1, 0, 0, 0, 1, 0, 0, 0, 0, 0, 2, 0, 2, 0, 1, 0, 0, 0, 2, 0, 1, 2, 1, 1, 2, 1, 2, 0, 0, 2, 0, 1, 2, 1, 0, 1, 0, 0, 1, 2, 1, 0, 0, 0, 0, 0, 0, 0, 1, 0, 1, 0, 2, 1, 0, 1, 0, 2, 2, 0, 0, 0, 0, 1, 0, 1, 0, 0, 2, 1, 1, 1, 0, 0, 0, 0, 0, 1, 1, 0, 1, 0, 0, 0, 0, 0, 0, 2, 2, 0, 2, 0, 2, 0, 2, 0, 2, 1, 0, 0, 0, 0, 0, 1, 2, 1, 2, 1, 1, 1, 0, 0, 2, 1, 1, 1, 0, 0, 2, 0, 1, 1, 2, 2, 2, 2, 0, 0, 2, 2, 2, 1, 0, 2, 2, 1, 1, 0, 0, 0, 1, 1, 2, 1, 1, 1, 0, 2, 0, 0, 1, 1, 1, 1, 0, 0, 1, 0, 1, 2, 0, 0, 2, 0, 0, 0, 0, 1, 0, 0, 0, 2, 1, 1, 1, 0, 0, 0, 0, 1, 1, 0, 1, 1, 0, 2, 0, 1, 2, 2, 1, 0, 1, 0, 1, 0, 1, 0, 0, 0, 1, 0, 0, 1, 0, 1, 0, 2, 0, 0, 1, 2, 0, 2, 2, 1, 2, 0, 0, 0, 2, 0, 2, 1, 2, 0, 0]\n",
      "[0, 2, 1, 1, 1, 0, 1, 0, 1, 0, 2, 1, 1, 0, 1, 0, 2, 1, 2, 0, 0, 1, 0, 1, 1, 2, 1, 1, 2, 0, 2, 0, 1, 1, 0, 1, 2, 1, 1, 0, 1, 2, 0, 2, 1, 0, 1, 1, 2, 2, 1, 0, 0, 0, 2, 2, 0, 2, 1, 2, 0, 1, 2, 2, 2, 2, 0, 1, 2, 2, 2, 1, 2, 0, 2, 1, 2, 1, 2, 1, 1, 1, 0, 0, 2, 1, 2, 2, 0, 2, 0, 0, 1, 2, 0, 2, 2, 2, 1, 1, 2, 0, 2, 1, 0, 2, 1, 0, 0, 1, 2, 2, 0, 2, 2, 2, 0, 1, 1, 0, 1, 1, 1, 0, 1, 0, 2, 2, 0, 0, 2, 2, 2, 1, 2, 2, 0, 0, 0, 1, 1, 2, 2, 0, 0, 1, 0, 2, 0, 2, 0, 2, 1, 1, 0, 0, 0, 0, 0, 2, 2, 1, 1, 1, 2, 0, 1, 0, 2, 1, 1, 1, 0, 1, 1, 2, 0, 1, 0, 2, 0, 1, 0, 1, 0, 0, 0, 2, 0, 2, 2, 2, 0, 1, 0, 1, 0, 0, 1, 1, 2, 0, 0, 2, 1, 1, 1, 0, 2, 0, 1, 0, 1, 0, 1, 1, 1, 1, 1, 0, 1, 0, 1, 0, 1, 1, 0, 0, 0, 1, 2, 1, 0, 1, 0, 2, 1, 0, 0, 1, 2, 0, 2, 1, 0, 1, 1, 0, 0, 1, 1, 2, 0, 2, 0, 1, 2, 0, 0, 2, 2, 0, 0, 1, 0, 0, 0, 1, 0, 2, 0, 0, 1, 1, 0, 1, 0, 2, 1, 1, 1, 1, 0, 2, 2, 0, 0, 0, 0, 1, 1, 1, 1, 2, 1, 1, 0, 2, 0, 1, 0, 1, 1, 1, 2, 1, 0, 0, 0, 1, 0, 0, 1, 0, 1, 0, 2, 2, 1, 1, 0, 1, 0, 1, 0, 1, 2, 0, 0, 0, 1, 0, 1, 0, 1, 1, 0, 1, 1, 0, 0, 1, 1, 0, 2, 1, 2, 0, 1, 1, 2, 2, 2, 0, 2, 2, 0, 0, 2, 2, 1, 0, 0, 0, 1, 0, 0, 0, 0, 0, 0, 0, 1, 1, 0, 1, 0, 2, 0, 0, 0, 2, 2, 0, 0, 0, 0, 0, 0, 1, 0, 1, 1, 2, 0, 1, 0, 2, 1, 0, 1, 1, 0, 0, 0, 0, 0, 0, 0, 1, 1, 2, 2, 0, 1, 0, 1, 0, 2, 1, 1, 0, 1, 1, 1, 1, 2, 1, 1, 0, 2, 0, 0, 0, 1, 1, 2, 2, 2, 0, 1, 0, 2, 1, 1, 2, 0, 0, 1, 1, 0, 0, 0, 2, 1, 0, 1, 0, 0, 0, 1, 2, 1, 0, 0, 2, 0, 0, 1, 0, 2, 1, 0, 2, 0, 2, 1, 1, 0, 2, 1, 1, 0, 2, 1, 0, 0, 1, 0, 1, 2, 2, 0, 1, 0, 0, 1, 2, 0, 1, 0, 1, 1, 0, 0, 1, 0, 0, 0, 1, 1, 0, 0, 1, 1, 0, 1, 1, 0, 0, 2, 0, 0, 0, 2, 1, 0, 0, 0, 0, 0, 0, 2, 0, 1, 1, 0, 2, 2, 2, 1, 2, 2, 2, 2, 0, 1, 0, 0, 1, 1, 2, 2, 1, 0, 1, 2, 1, 1, 1, 0, 1, 0, 1, 2, 0, 1, 1, 1, 0, 0, 2, 0, 0, 1, 0, 1, 2, 0, 1, 2, 0, 2, 0, 0, 1, 0, 0, 0, 0, 0, 1, 0, 0, 2, 1, 1, 0, 2, 1, 1, 2, 2, 0, 1, 1, 0, 2, 0, 1, 1, 0, 0, 0, 2, 0, 2, 0, 0, 1, 2, 0, 0, 1, 1, 1, 0, 0, 0, 0, 0, 2, 0, 1, 0, 0, 2, 0, 2, 0, 1, 1, 0, 0, 0, 0, 2, 1, 0, 0, 1, 0, 1, 2, 0, 0, 2, 0, 2, 2, 1, 0, 0, 0, 0, 0, 0, 1, 2, 2, 0, 1, 2, 2, 0, 0, 2, 0, 1, 2, 0, 1, 1, 0, 0, 1, 1, 2, 1, 2, 0, 2, 0, 1, 1, 2, 2, 0, 2, 1, 2, 0, 2, 0, 0, 2, 1, 1, 2, 1, 0, 2, 0, 1, 2, 1, 1, 0, 0, 1, 1, 1, 1, 1, 2, 0, 1, 2, 2, 1, 1, 0, 0, 1, 0, 0, 1, 0, 0, 2, 0, 0, 2, 0, 0, 0, 0, 2, 0, 0, 0, 0, 0, 0, 1, 2, 0, 0, 0, 0, 1, 2, 0, 0, 2, 1, 0, 0, 1, 1, 0, 0, 1, 0, 0, 1, 0, 1, 0, 0, 0, 0, 1, 1, 2, 0, 0, 0, 2, 0, 0, 0, 1, 0, 0, 0, 2, 1, 1, 1, 1, 0, 0, 0, 1, 1, 2, 2, 0, 2, 0, 0, 0, 0, 0, 1, 1, 1, 1, 1, 2, 0, 0, 0, 0, 0, 2, 0, 1, 2, 0, 0, 2, 0, 1, 0, 1, 1, 2, 2, 0, 2, 2, 1, 2, 0, 2, 2, 0, 2, 1, 2, 0, 1, 1, 0, 0, 1, 0, 1, 0, 2, 2, 2, 1, 1, 0, 2, 0, 1, 2, 0, 2, 2, 1, 0, 0, 0, 0, 1, 2, 1, 0, 0, 1, 1, 2, 1, 1, 0, 0, 2, 0, 1, 0, 2, 2, 1, 2, 2, 0, 1, 1, 1, 2, 0, 0, 1, 1, 1, 0, 2, 2, 0, 1, 2, 2, 0, 2, 2, 2, 2, 0, 2, 1, 1, 1, 0, 0, 2, 2, 0, 1, 0, 2, 0, 0, 0, 0, 1, 0, 0, 0, 1, 1, 0, 2, 0, 0, 2, 1, 0, 0, 0, 0, 1]\n"
     ]
    },
    {
     "data": {
      "text/plain": [
       "0.1443848207063997"
      ]
     },
     "execution_count": 55,
     "metadata": {},
     "output_type": "execute_result"
    }
   ],
   "source": [
    "def get_excel_path(no_model):\n",
    "    return output_folder + str(no_model) + \"/\" + str(no_model) + \".xlsx\"\n",
    "\n",
    "def get_input_model(no_model):\n",
    "    return pd.read_excel(get_excel_path(no_model), sheet_name=\"stability\")[\"Stab\"].tolist()\n",
    "\n",
    "no_model_1 = input()\n",
    "no_model_2 = input()\n",
    "\n",
    "print(\"First model: #\", no_model_1)\n",
    "print(\"Second model: #\", no_model_2)\n",
    "\n",
    "inputs_model_1 = get_input_model(no_model_1)\n",
    "inputs_model_2 = get_input_model(no_model_2)\n",
    "print(inputs_model_1)\n",
    "print(inputs_model_2)\n",
    "\n",
    "adjusted_rand_score(inputs_model_1, inputs_model_2)\n",
    "\n",
    "\n",
    "\n",
    "\n"
   ]
  },
  {
   "cell_type": "code",
   "execution_count": 60,
   "metadata": {},
   "outputs": [
    {
     "data": {
      "image/png": "[encoded data removed]",
      "text/plain": [
       "<Figure size 640x480 with 1 Axes>"
      ]
     },
     "metadata": {},
     "output_type": "display_data"
    }
   ],
   "source": [
    "import matplotlib.pyplot as plt\n",
    "\n",
    "# Data\n",
    "categories = ['Subtype 1', 'Subtype 2', 'Subtype 3']\n",
    "values = [0.165445026, 0.165618449, 0.166491043]\n",
    "\n",
    "# Plotting\n",
    "fig, ax = plt.subplots()\n",
    "ax.bar(categories, values, color=['red', 'green', 'blue'])\n",
    "\n",
    "# Adding labels and title\n",
    "ax.set_ylabel('Mean')\n",
    "ax.set_title('Hallucinations')\n",
    "ax.set_ylim(0.165, 0.167)\n",
    "\n",
    "plt.show()"
   ]
  }
 ],
 "metadata": {
  "kernelspec": {
   "display_name": "Python 3",
   "language": "python",
   "name": "python3"
  },
  "language_info": {
   "codemirror_mode": {
    "name": "ipython",
    "version": 3
   },
   "file_extension": ".py",
   "mimetype": "text/x-python",
   "name": "python",
   "nbconvert_exporter": "python",
   "pygments_lexer": "ipython3",
   "version": "3.9.6"
  }
 },
 "nbformat": 4,
 "nbformat_minor": 2
}
